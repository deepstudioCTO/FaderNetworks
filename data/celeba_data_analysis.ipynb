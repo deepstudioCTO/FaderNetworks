{
 "cells": [
  {
   "cell_type": "code",
   "execution_count": 3,
   "metadata": {},
   "outputs": [],
   "source": [
    "import os\n",
    "import matplotlib.image as mpimg\n",
    "import cv2\n",
    "import numpy as np\n",
    "import torch\n",
    "import glob"
   ]
  },
  {
   "cell_type": "code",
   "execution_count": 15,
   "metadata": {},
   "outputs": [],
   "source": [
    "N_IMAGES = 202599"
   ]
  },
  {
   "cell_type": "code",
   "execution_count": 19,
   "metadata": {},
   "outputs": [],
   "source": [
    "def check_attributes(file_path, n = N_IMAGES):\n",
    "    attr_lines = [line.rstrip() for line in open(file_path, 'r')][: n+2]\n",
    "    attr_keys = attr_lines[1].split()\n",
    "    attributes = {k: np.zeros(n, dtype=np.bool) for k in attr_keys}\n",
    "    \n",
    "    for i, line in enumerate(attr_lines[2:]):        \n",
    "        image_id = i + 1\n",
    "        split = line.split()\n",
    "        \n",
    "        assert len(split) == 41\n",
    "        assert split[0] == ('%06i.jpg' % image_id)\n",
    "        assert all(x in ['-1', '1'] for x in split[1:])\n",
    "        \n",
    "        for j, value in enumerate(split[1:]):\n",
    "            attributes[attr_keys[j]][i] = value == '1'\n",
    "            \n",
    "    for key in attr_keys :\n",
    "        count = 0\n",
    "        for value in attributes[key] :\n",
    "            if value :\n",
    "                count += 1\n",
    "        print('%s : %i / %.2f%%' % (key, count, count/n*100 ))"
   ]
  },
  {
   "cell_type": "code",
   "execution_count": 20,
   "metadata": {},
   "outputs": [
    {
     "name": "stdout",
     "output_type": "stream",
     "text": [
      "5_o_Clock_Shadow : 22516 / 11.11%\n",
      "Arched_Eyebrows : 54090 / 26.70%\n",
      "Attractive : 103833 / 51.25%\n",
      "Bags_Under_Eyes : 41446 / 20.46%\n",
      "Bald : 4547 / 2.24%\n",
      "Bangs : 30709 / 15.16%\n",
      "Big_Lips : 48785 / 24.08%\n",
      "Big_Nose : 47516 / 23.45%\n",
      "Black_Hair : 48472 / 23.93%\n",
      "Blond_Hair : 29983 / 14.80%\n",
      "Blurry : 10312 / 5.09%\n",
      "Brown_Hair : 41572 / 20.52%\n",
      "Bushy_Eyebrows : 28803 / 14.22%\n",
      "Chubby : 11663 / 5.76%\n",
      "Double_Chin : 9459 / 4.67%\n",
      "Eyeglasses : 13193 / 6.51%\n",
      "Goatee : 12716 / 6.28%\n",
      "Gray_Hair : 8499 / 4.19%\n",
      "Heavy_Makeup : 78390 / 38.69%\n",
      "High_Cheekbones : 92189 / 45.50%\n",
      "Male : 84434 / 41.68%\n",
      "Mouth_Slightly_Open : 97942 / 48.34%\n",
      "Mustache : 8417 / 4.15%\n",
      "Narrow_Eyes : 23329 / 11.51%\n",
      "No_Beard : 169158 / 83.49%\n",
      "Oval_Face : 57567 / 28.41%\n",
      "Pale_Skin : 8701 / 4.29%\n",
      "Pointy_Nose : 56210 / 27.74%\n",
      "Receding_Hairline : 16163 / 7.98%\n",
      "Rosy_Cheeks : 13315 / 6.57%\n",
      "Sideburns : 11449 / 5.65%\n",
      "Smiling : 97669 / 48.21%\n",
      "Straight_Hair : 42222 / 20.84%\n",
      "Wavy_Hair : 64744 / 31.96%\n",
      "Wearing_Earrings : 38276 / 18.89%\n",
      "Wearing_Hat : 9818 / 4.85%\n",
      "Wearing_Lipstick : 95715 / 47.24%\n",
      "Wearing_Necklace : 24913 / 12.30%\n",
      "Wearing_Necktie : 14732 / 7.27%\n",
      "Young : 156734 / 77.36%\n"
     ]
    }
   ],
   "source": [
    "# all data\n",
    "check_attributes('list_attr_celeba.txt')"
   ]
  },
  {
   "cell_type": "code",
   "execution_count": 21,
   "metadata": {},
   "outputs": [
    {
     "name": "stdout",
     "output_type": "stream",
     "text": [
      "5_o_Clock_Shadow : 2245 / 11.22%\n",
      "Arched_Eyebrows : 5285 / 26.42%\n",
      "Attractive : 10262 / 51.31%\n",
      "Bags_Under_Eyes : 4092 / 20.46%\n",
      "Bald : 464 / 2.32%\n",
      "Bangs : 3029 / 15.14%\n",
      "Big_Lips : 4772 / 23.86%\n",
      "Big_Nose : 4748 / 23.74%\n",
      "Black_Hair : 4853 / 24.27%\n",
      "Blond_Hair : 2977 / 14.89%\n",
      "Blurry : 1035 / 5.17%\n",
      "Brown_Hair : 4064 / 20.32%\n",
      "Bushy_Eyebrows : 2881 / 14.41%\n",
      "Chubby : 1142 / 5.71%\n",
      "Double_Chin : 927 / 4.63%\n",
      "Eyeglasses : 1292 / 6.46%\n",
      "Goatee : 1250 / 6.25%\n",
      "Gray_Hair : 838 / 4.19%\n",
      "Heavy_Makeup : 7698 / 38.49%\n",
      "High_Cheekbones : 9000 / 45.00%\n",
      "Male : 8431 / 42.16%\n",
      "Mouth_Slightly_Open : 9582 / 47.91%\n",
      "Mustache : 787 / 3.94%\n",
      "Narrow_Eyes : 2316 / 11.58%\n",
      "No_Beard : 16642 / 83.21%\n",
      "Oval_Face : 5576 / 27.88%\n",
      "Pale_Skin : 863 / 4.32%\n",
      "Pointy_Nose : 5525 / 27.62%\n",
      "Receding_Hairline : 1560 / 7.80%\n",
      "Rosy_Cheeks : 1267 / 6.33%\n",
      "Sideburns : 1168 / 5.84%\n",
      "Smiling : 9587 / 47.94%\n",
      "Straight_Hair : 4247 / 21.23%\n",
      "Wavy_Hair : 6323 / 31.61%\n",
      "Wearing_Earrings : 3726 / 18.63%\n",
      "Wearing_Hat : 995 / 4.98%\n",
      "Wearing_Lipstick : 9421 / 47.11%\n",
      "Wearing_Necklace : 2440 / 12.20%\n",
      "Wearing_Necktie : 1481 / 7.41%\n",
      "Young : 15598 / 77.99%\n"
     ]
    }
   ],
   "source": [
    "check_attributes('list_attr_celeba.txt', 20000)"
   ]
  }
 ],
 "metadata": {
  "kernelspec": {
   "display_name": "Environment (conda_fader_networks)",
   "language": "python",
   "name": "conda_fader_networks"
  },
  "language_info": {
   "codemirror_mode": {
    "name": "ipython",
    "version": 3
   },
   "file_extension": ".py",
   "mimetype": "text/x-python",
   "name": "python",
   "nbconvert_exporter": "python",
   "pygments_lexer": "ipython3",
   "version": "3.6.4"
  }
 },
 "nbformat": 4,
 "nbformat_minor": 2
}

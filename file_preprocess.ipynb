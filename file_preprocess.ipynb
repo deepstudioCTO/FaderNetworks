{
 "cells": [
  {
   "cell_type": "code",
   "execution_count": 22,
   "metadata": {},
   "outputs": [],
   "source": [
    "import glob\n",
    "from os import rename\n",
    "import random\n",
    "import shutil"
   ]
  },
  {
   "cell_type": "code",
   "execution_count": null,
   "metadata": {},
   "outputs": [],
   "source": [
    "# list_attr_celeba.txt\n",
    "# 202599\n",
    "# 5_o_Clock_Shadow Arched_Eyebrows Attractive Bags_Under_Eyes Bald Bangs Big_Lips Big_Nose Black_Hair Blond_Hair Blurry Brown_Hair Bushy_Eyebrows Chubby Double_Chin Eyeglasses Goatee Gray_Hair Heavy_Makeup High_Cheekbones Male Mouth_Slightly_Open Mustache Narrow_Eyes No_Beard Oval_Face Pale_Skin Pointy_Nose Receding_Hairline Rosy_Cheeks Sideburns Smiling Straight_Hair Wavy_Hair Wearing_Earrings Wearing_Hat Wearing_Lipstick Wearing_Necklace Wearing_Necktie Young\n",
    "# 000001.jpg -1  1  1 -1 -1 -1 -1 -1 -1 -1 -1  1 -1 -1 -1 -1 -1 -1  1  1 -1  1 -1 -1  1 -1 -1  1 -1 -1 -1  1  1 -1  1 -1  1 -1 -1  1\n",
    "# 000002.jpg -1 -1 -1  1 -1 -1 -1  1 -1 -1 -1  1 -1 -1 -1 -1 -1 -1 -1  1 -1  1 -1 -1  1 -1 -1 -1 -1 -1 -1  1 -1 -1 -1 -1 -1 -1 -1  1\n",
    "# 000003.jpg -1 -1 -1 -1 -1 -1  1 -1 -1 -1  1 -1 -1 -1 -1 -1 -1 -1 -1 -1  1 -1 -1  1  1 -1 -1  1 -1 -1 -1 -1 -1  1 -1 -1 -1 -1 -1  1\n",
    "# 000004.jpg -1 -1  1 -1 -1 -1 -1 -1 -1 -1 -1 -1 -1 -1 -1 -1 -1 -1 -1 -1 -1 -1 -1 -1  1 -1 -1  1 -1 -1 -1 -1  1 -1  1 -1  1  1 -1  1"
   ]
  },
  {
   "cell_type": "code",
   "execution_count": null,
   "metadata": {},
   "outputs": [],
   "source": [
    "# list_attr_celeba_kang.txt\n",
    "# 1542\n",
    "# is_Kang\n",
    "# 000001.jpg -1\n",
    "# 000001.jpg -1"
   ]
  },
  {
   "cell_type": "code",
   "execution_count": 49,
   "metadata": {},
   "outputs": [],
   "source": [
    "file = sorted(glob.glob('./data/celeba_kang/*'))"
   ]
  },
  {
   "cell_type": "code",
   "execution_count": 50,
   "metadata": {},
   "outputs": [
    {
     "data": {
      "text/plain": [
       "['./data/celeba_kang/000001.jpg',\n",
       " './data/celeba_kang/000002.jpg',\n",
       " './data/celeba_kang/000003.jpg']"
      ]
     },
     "execution_count": 50,
     "metadata": {},
     "output_type": "execute_result"
    }
   ],
   "source": [
    "file[:3]"
   ]
  },
  {
   "cell_type": "code",
   "execution_count": 52,
   "metadata": {},
   "outputs": [
    {
     "data": {
      "text/plain": [
       "['./data/celeba_kang/000001.jpg',\n",
       " './data/celeba_kang/000002.jpg',\n",
       " './data/celeba_kang/000003.jpg',\n",
       " './data/celeba_kang/000004.jpg',\n",
       " './data/celeba_kang/000005.jpg',\n",
       " './data/celeba_kang/000006.jpg',\n",
       " './data/celeba_kang/000007.jpg',\n",
       " './data/celeba_kang/000008.jpg']"
      ]
     },
     "execution_count": 52,
     "metadata": {},
     "output_type": "execute_result"
    }
   ],
   "source": [
    "file[:8]"
   ]
  },
  {
   "cell_type": "code",
   "execution_count": 57,
   "metadata": {},
   "outputs": [
    {
     "name": "stdout",
     "output_type": "stream",
     "text": [
      "000001.jpg\n"
     ]
    }
   ],
   "source": [
    "fn = './data/celeba_kang/000001.jpg'\n",
    "slash_idx = fn.rfind('/')\n",
    "print(fn[slash_idx+1:])"
   ]
  },
  {
   "cell_type": "code",
   "execution_count": 58,
   "metadata": {},
   "outputs": [],
   "source": [
    "flag = 1\n",
    "ans = 0\n",
    "\n",
    "f = open(\"./data/celeba_kang/list_attr_celeba_kang.txt\", 'w')\n",
    "for fname in file:\n",
    "    if flag <= 1000:\n",
    "        ans = -1\n",
    "    else:\n",
    "        ans = 1\n",
    "    data = \"%s %d\\n\" % (fname[fname.rfind('/')+1:], ans)\n",
    "    f.write(data)\n",
    "    flag += 1\n",
    "f.close()"
   ]
  },
  {
   "cell_type": "code",
   "execution_count": 27,
   "metadata": {},
   "outputs": [],
   "source": [
    "celebA = glob.glob('./data/img_celeba_aligned_128/*')"
   ]
  },
  {
   "cell_type": "code",
   "execution_count": 38,
   "metadata": {},
   "outputs": [],
   "source": [
    "kang_128 = glob.glob('./data/celeba_kang/Kang_128/*')"
   ]
  },
  {
   "cell_type": "code",
   "execution_count": 39,
   "metadata": {},
   "outputs": [
    {
     "data": {
      "text/plain": [
       "542"
      ]
     },
     "execution_count": 39,
     "metadata": {},
     "output_type": "execute_result"
    }
   ],
   "source": [
    "len(kang_128)"
   ]
  },
  {
   "cell_type": "code",
   "execution_count": 20,
   "metadata": {},
   "outputs": [],
   "source": [
    "celebA_1000 = random.sample(celebA, 1000) "
   ]
  },
  {
   "cell_type": "code",
   "execution_count": null,
   "metadata": {},
   "outputs": [],
   "source": [
    "shutil.copy('sample.pdf', 'Temp')"
   ]
  },
  {
   "cell_type": "code",
   "execution_count": 41,
   "metadata": {},
   "outputs": [],
   "source": [
    "for idx, fname in enumerate(kang_128):\n",
    "#     print(idx+1)\n",
    "#     print(fname)\n",
    "#     print('img_align_celeba/%06i.jpg' % (idx + 1))\n",
    "    shutil.copy(fname, './data/celeba_kang/%06i.jpg' % (idx + 1001))"
   ]
  },
  {
   "cell_type": "code",
   "execution_count": null,
   "metadata": {},
   "outputs": [],
   "source": [
    "for idx, fname in enumerate(celebA_1000):\n",
    "    shutil.copy(fname, './data/celeba_kang/%06i.jpg' % (idx + 1))"
   ]
  },
  {
   "cell_type": "code",
   "execution_count": 21,
   "metadata": {},
   "outputs": [
    {
     "data": {
      "text/plain": [
       "['./data/img_celeba_aligned_128/053360.jpg',\n",
       " './data/img_celeba_aligned_128/130687.jpg',\n",
       " './data/img_celeba_aligned_128/062740.jpg',\n",
       " './data/img_celeba_aligned_128/040765.jpg',\n",
       " './data/img_celeba_aligned_128/105889.jpg',\n",
       " './data/img_celeba_aligned_128/111361.jpg',\n",
       " './data/img_celeba_aligned_128/190755.jpg',\n",
       " './data/img_celeba_aligned_128/106258.jpg',\n",
       " './data/img_celeba_aligned_128/135013.jpg',\n",
       " './data/img_celeba_aligned_128/175869.jpg']"
      ]
     },
     "execution_count": 21,
     "metadata": {},
     "output_type": "execute_result"
    }
   ],
   "source": [
    "celebA_1000[:10]"
   ]
  },
  {
   "cell_type": "code",
   "execution_count": null,
   "metadata": {},
   "outputs": [],
   "source": [
    "for fname in glob('./data/Kang_128/*'):\n",
    "    rename(fname, fname[8:])"
   ]
  },
  {
   "cell_type": "code",
   "execution_count": 13,
   "metadata": {},
   "outputs": [
    {
     "name": "stdout",
     "output_type": "stream",
     "text": [
      "./data/Kang_128/1.jpg\n"
     ]
    }
   ],
   "source": [
    "fname = './data/Kang_128/KangDaniel_40_0_crop_.jpg'\n",
    "slash_idx = fname.rfind('/')\n",
    "print(fname[:slash_idx] + str('/') + str(1) + str('.jpg'))"
   ]
  },
  {
   "cell_type": "code",
   "execution_count": null,
   "metadata": {},
   "outputs": [],
   "source": []
  }
 ],
 "metadata": {
  "kernelspec": {
   "display_name": "Environment (conda_fader_networks)",
   "language": "python",
   "name": "conda_fader_networks"
  },
  "language_info": {
   "codemirror_mode": {
    "name": "ipython",
    "version": 3
   },
   "file_extension": ".py",
   "mimetype": "text/x-python",
   "name": "python",
   "nbconvert_exporter": "python",
   "pygments_lexer": "ipython3",
   "version": "3.6.3"
  }
 },
 "nbformat": 4,
 "nbformat_minor": 2
}
